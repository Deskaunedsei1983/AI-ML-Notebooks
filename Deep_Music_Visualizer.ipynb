{
  "nbformat": 4,
  "nbformat_minor": 0,
  "metadata": {
    "colab": {
      "name": "Deep_Music_Visualizer.ipynb",
      "private_outputs": true,
      "provenance": [],
      "collapsed_sections": [],
      "machine_shape": "hm"
    },
    "kernelspec": {
      "name": "python3",
      "display_name": "Python 3"
    },
    "accelerator": "GPU"
  },
  "cells": [
    {
      "cell_type": "markdown",
      "metadata": {
        "id": "view-in-github"
      },
      "source": [
        "<a href=\"https://colab.research.google.com/github/dvschultz/ml-art-colabs/blob/master/Deep_Music_Visualizer.ipynb\" target=\"_parent\"><img src=\"https://colab.research.google.com/assets/colab-badge.svg\" alt=\"Open In Colab\"/></a>"
      ]
    },
    {
      "cell_type": "markdown",
      "metadata": {
        "id": "GMeDe-FgB8rA"
      },
      "source": [
        "[Github](https://github.com/msieg/deep-music-visualizer)"
      ]
    },
    {
      "cell_type": "code",
      "metadata": {
        "id": "rFJc70f6A8V5"
      },
      "source": [
        "!nvidia-smi -L"
      ],
      "execution_count": null,
      "outputs": []
    },
    {
      "cell_type": "code",
      "metadata": {
        "id": "8XagXuLuArW-"
      },
      "source": [
        "!git clone https://github.com/msieg/deep-music-visualizer.git\n",
        "%cd deep-music-visualizer\n",
        "!pip install -r requirements.txt"
      ],
      "execution_count": null,
      "outputs": []
    },
    {
      "cell_type": "code",
      "metadata": {
        "id": "MiMYZTB4BoQO"
      },
      "source": [
        "!python visualize.py --help"
      ],
      "execution_count": null,
      "outputs": []
    },
    {
      "cell_type": "code",
      "metadata": {
        "id": "y7VFZfVzBE5k"
      },
      "source": [
        "#Under Collab Left Sidebar Click the Folder Icon and Upload an mp3 file\n",
        "#!python visualize.py --song /content/xyz.mp3 --resolution 512 --batch_size 30\n",
        "\n",
        "!python visualize.py --song /content/item_1-com24-02.mp3 --resolution 1024 --batch_size 30"
      ],
      "execution_count": null,
      "outputs": []
    },
    {
      "cell_type": "code",
      "metadata": {
        "id": "KZJFv4v7Byz4"
      },
      "source": [
        ""
      ],
      "execution_count": null,
      "outputs": []
    }
  ]
}